{
 "cells": [
  {
   "cell_type": "code",
   "execution_count": 11,
   "metadata": {},
   "outputs": [],
   "source": [
    "from carel import Carel\n",
    "from carelgrid import CarelGrid\n",
    "from gamecanvas import GameCanvas"
   ]
  },
  {
   "cell_type": "code",
   "execution_count": 12,
   "metadata": {},
   "outputs": [],
   "source": [
    "class CarelReturn (Carel):\n",
    "    \n",
    "    def turn_north(self):\n",
    "        if self.position == 1:\n",
    "            self.turn_left()\n",
    "            self.turn_left()\n",
    "            self.turn_left()\n",
    "        elif self.position == 2:\n",
    "            self.turn_left()\n",
    "            self.turn_left()\n",
    "        elif self.position ==3:\n",
    "            self.turn_left()\n",
    "                \n",
    "    def turn_right(self):\n",
    "        self.turn_left()\n",
    "        self.turn_left()\n",
    "        self.turn_left()\n",
    "        \n",
    "    def __init__(self, canvas, grid):\n",
    "        self.position = 3\n",
    "        super().__init__(canvas, grid)\n",
    "        \n",
    "    def turn_left(self):\n",
    "        super().turn_left()\n",
    "        self.position = self.position + 1\n",
    "        if self.position== 4:\n",
    "            self.position = 0\n",
    "            \n",
    "    def go_position(self):  \n",
    "        self.turn_north()\n",
    "        self.move_to_wall()\n",
    "        self.turn_left()\n",
    "        self.move_to_wall()\n",
    "        self.turn_left()\n",
    "        self.turn_left()\n",
    "\n",
    "    def move_to_wall(self):\n",
    "        while True:\n",
    "            if not is_front_clear():\n",
    "                break\n",
    "            self.move() \n",
    "       "
   ]
  },
  {
   "cell_type": "code",
   "execution_count": 13,
   "metadata": {},
   "outputs": [
    {
     "name": "stdout",
     "output_type": "stream",
     "text": [
      "',(0):>   1      0      0      0      0   \n",
      "   2      0      0      0      0      0   \n",
      "   0      0      0      0      0      0   \n",
      "   0      0      1      0      0      0   \n"
     ]
    }
   ],
   "source": [
    "field = [[0 for x in range(6)] for y in range(4)]\n",
    "\n",
    "field[0][1] = 1\n",
    "field[1][0] = 2\n",
    "field[3][2] = 1\n",
    "\n",
    "grid = CarelGrid(field)\n",
    "canvas = GameCanvas(speed=3)\n",
    "carel = CarelReturn(canvas, grid)\n",
    "\n",
    "def move():\n",
    "    carel.move()\n",
    "def turn_left():\n",
    "    carel.turn_left()\n",
    "def drop_beeper():\n",
    "    carel.drop_beeper()\n",
    "def collect_beeper():\n",
    "    carel.collect_beeper()\n",
    "def is_beeper():\n",
    "    return carel.is_beeper()\n",
    "def is_front_clear():\n",
    "    return carel.is_front_clear()\n",
    "def fill_field():\n",
    "    carel.fill_field()\n",
    "def go_position():\n",
    "    carel.go_position()\n",
    "def turn_north():\n",
    "    carel.turn_north()\n",
    "def show():\n",
    "    carel.show()"
   ]
  },
  {
   "cell_type": "code",
   "execution_count": 14,
   "metadata": {},
   "outputs": [
    {
     "name": "stdout",
     "output_type": "stream",
     "text": [
      "',(0):>   1      0      0      0      0   \n",
      "   2      0      0      0      0      0   \n",
      "   0      0      0      0      0      0   \n",
      "   0      0      1      0      0      0   \n"
     ]
    }
   ],
   "source": [
    "show()"
   ]
  },
  {
   "cell_type": "code",
   "execution_count": 15,
   "metadata": {},
   "outputs": [
    {
     "name": "stdout",
     "output_type": "stream",
     "text": [
      "',(0):>   1      0      0      0      0   \n",
      "   2      0      0      0      0      0   \n",
      "   0      0      0      0      0      0   \n",
      "   0      0      1      0      0      0   \n"
     ]
    }
   ],
   "source": [
    "go_position()\n"
   ]
  },
  {
   "cell_type": "code",
   "execution_count": null,
   "metadata": {},
   "outputs": [],
   "source": []
  }
 ],
 "metadata": {
  "kernelspec": {
   "display_name": "Python 3",
   "language": "python",
   "name": "python3"
  },
  "language_info": {
   "codemirror_mode": {
    "name": "ipython",
    "version": 3
   },
   "file_extension": ".py",
   "mimetype": "text/x-python",
   "name": "python",
   "nbconvert_exporter": "python",
   "pygments_lexer": "ipython3",
   "version": "3.7.1"
  }
 },
 "nbformat": 4,
 "nbformat_minor": 2
}
